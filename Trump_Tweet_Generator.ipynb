{
  "nbformat": 4,
  "nbformat_minor": 0,
  "metadata": {
    "colab": {
      "name": "Trump_Tweet_Generator.ipynb",
      "version": "0.3.2",
      "provenance": [],
      "include_colab_link": true
    },
    "kernelspec": {
      "display_name": "Python [default]",
      "language": "python",
      "name": "python3"
    }
  },
  "cells": [
    {
      "cell_type": "markdown",
      "metadata": {
        "id": "view-in-github",
        "colab_type": "text"
      },
      "source": [
        "<a href=\"https://colab.research.google.com/github/avinsit123/Tweetopedia_Collab_Notebooks/blob/master/Trump_Tweet_Generator.ipynb\" target=\"_parent\"><img src=\"https://colab.research.google.com/assets/colab-badge.svg\" alt=\"Open In Colab\"/></a>"
      ]
    },
    {
      "metadata": {
        "id": "D6JpGELNiPN-",
        "colab_type": "code",
        "outputId": "b66e65e6-dc5c-4558-f0b9-08552c10bdba",
        "colab": {
          "base_uri": "https://localhost:8080/",
          "height": 1020
        }
      },
      "cell_type": "code",
      "source": [
        "!git clone https://github.com/avinsit123/Tweet_Like_Trump.git\n",
        "!pip install torch"
      ],
      "execution_count": 0,
      "outputs": [
        {
          "output_type": "stream",
          "text": [
            "Cloning into 'Tweet_Like_Trump'...\n",
            "remote: Enumerating objects: 43, done.\u001b[K\n",
            "remote: Counting objects: 100% (43/43), done.\u001b[K\n",
            "remote: Compressing objects: 100% (35/35), done.\u001b[K\n",
            "remote: Total 43 (delta 1), reused 0 (delta 0), pack-reused 0\u001b[K\n",
            "Unpacking objects: 100% (43/43), done.\n",
            "Collecting torch\n",
            "\u001b[?25l  Downloading https://files.pythonhosted.org/packages/7e/60/66415660aa46b23b5e1b72bc762e816736ce8d7260213e22365af51e8f9c/torch-1.0.0-cp36-cp36m-manylinux1_x86_64.whl (591.8MB)\n",
            "\u001b[K    100% |████████████████████████████████| 591.8MB 26kB/s \n",
            "tcmalloc: large alloc 1073750016 bytes == 0x60f68000 @  0x7ff74386f2a4 0x591a07 0x5b5d56 0x502e9a 0x506859 0x502209 0x502f3d 0x506859 0x504c28 0x502540 0x502f3d 0x506859 0x504c28 0x502540 0x502f3d 0x506859 0x504c28 0x502540 0x502f3d 0x507641 0x502209 0x502f3d 0x506859 0x504c28 0x502540 0x502f3d 0x507641 0x504c28 0x502540 0x502f3d 0x507641\n",
            "\u001b[?25hInstalling collected packages: torch\n",
            "Successfully installed torch-1.0.0\n"
          ],
          "name": "stdout"
        }
      ]
    },
    {
      "metadata": {
        "id": "ZhZpXQwniXQN",
        "colab_type": "text"
      },
      "cell_type": "markdown",
      "source": [
        "This is a part of the Udacity Pytorch Scholarship Challenge Course Curricululm"
      ]
    },
    {
      "metadata": {
        "id": "LFxHZHgaiNro",
        "colab_type": "text"
      },
      "cell_type": "markdown",
      "source": [
        "# Character-Level LSTM in PyTorch\n",
        "\n",
        "In this notebook, I'll construct a character-level LSTM with PyTorch. The network will train character by character on some text, then generate new text character by character. As an example, I will train on Anna Karenina. **This model will be able to generate new text based on the text from the book!**\n",
        "\n",
        "This network is based off of Andrej Karpathy's [post on RNNs](http://karpathy.github.io/2015/05/21/rnn-effectiveness/) and [implementation in Torch](https://github.com/karpathy/char-rnn). Below is the general architecture of the character-wise RNN.\n",
        "\n",
        "<img src=\"https://github.com/udacity/deep-learning-v2-pytorch/blob/master/recurrent-neural-networks/char-rnn/assets/charseq.jpeg?raw=1\" width=\"500\">"
      ]
    },
    {
      "metadata": {
        "id": "6l9z6Bq9iNrr",
        "colab_type": "text"
      },
      "cell_type": "markdown",
      "source": [
        "First let's load in our required resources for data loading and model creation."
      ]
    },
    {
      "metadata": {
        "id": "yJ0XdGBiiNrv",
        "colab_type": "code",
        "colab": {}
      },
      "cell_type": "code",
      "source": [
        "import numpy as np\n",
        "import torch\n",
        "from torch import nn\n",
        "import torch.nn.functional as F"
      ],
      "execution_count": 0,
      "outputs": []
    },
    {
      "metadata": {
        "id": "JQ53psGsiNr6",
        "colab_type": "text"
      },
      "cell_type": "markdown",
      "source": [
        "## Load in Data\n",
        "\n",
        "Then, we'll load the Anna Karenina text file and convert it into integers for our network to use. "
      ]
    },
    {
      "metadata": {
        "id": "5YMyyQd2iNr-",
        "colab_type": "code",
        "colab": {}
      },
      "cell_type": "code",
      "source": [
        "# open text file and read in data as `text`\n",
        "with open('Tweet_Like_Trump/TweetlikeTrump/Cleaned Tweets of Trump.txt', 'r') as f:\n",
        "    text = f.read()"
      ],
      "execution_count": 0,
      "outputs": []
    },
    {
      "metadata": {
        "id": "QvOYo074iNsG",
        "colab_type": "text"
      },
      "cell_type": "markdown",
      "source": [
        "Let's check out the first 100 characters, make sure everything is peachy. According to the [American Book Review](http://americanbookreview.org/100bestlines.asp), this is the 6th best first line of a book ever."
      ]
    },
    {
      "metadata": {
        "id": "fca64h44iNsJ",
        "colab_type": "code",
        "outputId": "f23c3730-e972-487c-fb99-2ba124371a8d",
        "colab": {
          "base_uri": "https://localhost:8080/",
          "height": 94
        }
      },
      "cell_type": "code",
      "source": [
        "text[:100]"
      ],
      "execution_count": 0,
      "outputs": [
        {
          "output_type": "execute_result",
          "data": {
            "text/plain": [
              "'....The Russian Witch Hunt Hoax, started as the insurance policy long before I even got elected, is '"
            ]
          },
          "metadata": {
            "tags": []
          },
          "execution_count": 4
        }
      ]
    },
    {
      "metadata": {
        "id": "6pAnbh31iNsY",
        "colab_type": "text"
      },
      "cell_type": "markdown",
      "source": [
        "### Tokenization\n",
        "\n",
        "In the cells, below, I'm creating a couple **dictionaries** to convert the characters to and from integers. Encoding the characters as integers makes it easier to use as input in the network."
      ]
    },
    {
      "metadata": {
        "id": "im_8Xh57iNsa",
        "colab_type": "code",
        "colab": {}
      },
      "cell_type": "code",
      "source": [
        "# encode the text and map each character to an integer and vice versa\n",
        "\n",
        "# we create two dictionaries:\n",
        "# 1. int2char, which maps integers to characters\n",
        "# 2. char2int, which maps characters to unique integers\n",
        "chars = tuple(set(text))\n",
        "int2char = dict(enumerate(chars))\n",
        "char2int = {ch: ii for ii, ch in int2char.items()}\n",
        "\n",
        "# encode the text\n",
        "encoded = np.array([char2int[ch] for ch in text])"
      ],
      "execution_count": 0,
      "outputs": []
    },
    {
      "metadata": {
        "id": "wmobmHLFiNsh",
        "colab_type": "text"
      },
      "cell_type": "markdown",
      "source": [
        "And we can see those same characters from above, encoded as integers."
      ]
    },
    {
      "metadata": {
        "id": "Q3N99S7NiNsj",
        "colab_type": "code",
        "outputId": "3631de17-a100-4058-f48f-cffb8d7d1bc0",
        "colab": {}
      },
      "cell_type": "code",
      "source": [
        "encoded[:100]"
      ],
      "execution_count": 0,
      "outputs": [
        {
          "output_type": "execute_result",
          "data": {
            "text/plain": [
              "array([65, 12, 19, 35, 59, 47, 80, 21,  8, 24, 24, 24, 32, 19, 35, 35, 45,\n",
              "       21, 46, 19, 72,  0, 25,  0, 47, 23, 21, 19, 80, 47, 21, 19, 25, 25,\n",
              "       21, 19, 25,  0, 76, 47, 50, 21, 47, 56, 47, 80, 45, 21, 44,  2, 12,\n",
              "       19, 35, 35, 45, 21, 46, 19, 72,  0, 25, 45, 21,  0, 23, 21, 44,  2,\n",
              "       12, 19, 35, 35, 45, 21,  0,  2, 21,  0, 59, 23, 21, 81, 14,  2, 24,\n",
              "       14, 19, 45,  9, 24, 24, 61, 56, 47, 80, 45, 59, 12,  0,  2])"
            ]
          },
          "metadata": {
            "tags": []
          },
          "execution_count": 5
        }
      ]
    },
    {
      "metadata": {
        "id": "urmmNhNGiNss",
        "colab_type": "text"
      },
      "cell_type": "markdown",
      "source": [
        "## Pre-processing the data\n",
        "\n",
        "As you can see in our char-RNN image above, our LSTM expects an input that is **one-hot encoded** meaning that each character is converted into an integer (via our created dictionary) and *then* converted into a column vector where only it's corresponding integer index will have the value of 1 and the rest of the vector will be filled with 0's. Since we're one-hot encoding the data, let's make a function to do that!\n"
      ]
    },
    {
      "metadata": {
        "id": "FRkTYm4IiNsu",
        "colab_type": "code",
        "colab": {}
      },
      "cell_type": "code",
      "source": [
        "def one_hot_encode(arr, n_labels):\n",
        "    \n",
        "    # Initialize the the encoded array\n",
        "    one_hot = np.zeros((np.multiply(*arr.shape), n_labels), dtype=np.float32)\n",
        "    \n",
        "    # Fill the appropriate elements with ones\n",
        "    one_hot[np.arange(one_hot.shape[0]), arr.flatten()] = 1.\n",
        "    \n",
        "    # Finally reshape it to get back to the original array\n",
        "    one_hot = one_hot.reshape((*arr.shape, n_labels))\n",
        "    \n",
        "    return one_hot"
      ],
      "execution_count": 0,
      "outputs": []
    },
    {
      "metadata": {
        "id": "UCqaPVFCiNs1",
        "colab_type": "code",
        "outputId": "ed2426c8-09c2-4caa-e0b8-44a2ccde6711",
        "colab": {}
      },
      "cell_type": "code",
      "source": [
        "# check that the function works as expected\n",
        "test_seq = np.array([[3, 5, 1]])\n",
        "one_hot = one_hot_encode(test_seq, 8)\n",
        "\n",
        "print(one_hot)"
      ],
      "execution_count": 0,
      "outputs": [
        {
          "output_type": "stream",
          "text": [
            "[[[ 0.  0.  0.  1.  0.  0.  0.  0.]\n",
            "  [ 0.  0.  0.  0.  0.  1.  0.  0.]\n",
            "  [ 0.  1.  0.  0.  0.  0.  0.  0.]]]\n"
          ],
          "name": "stdout"
        }
      ]
    },
    {
      "metadata": {
        "id": "SdcBP3oyiNs-",
        "colab_type": "text"
      },
      "cell_type": "markdown",
      "source": [
        "## Making training mini-batches\n",
        "\n",
        "\n",
        "To train on this data, we also want to create mini-batches for training. Remember that we want our batches to be multiple sequences of some desired number of sequence steps. Considering a simple example, our batches would look like this:\n",
        "\n",
        "<img src=\"https://github.com/udacity/deep-learning-v2-pytorch/blob/master/recurrent-neural-networks/char-rnn/assets/sequence_batching@1x.png?raw=1\" width=500px>\n",
        "\n",
        "\n",
        "<br>\n",
        "\n",
        "In this example, we'll take the encoded characters (passed in as the `arr` parameter) and split them into multiple sequences, given by `batch_size`. Each of our sequences will be `seq_length` long.\n",
        "\n",
        "### Creating Batches\n",
        "\n",
        "**1. The first thing we need to do is discard some of the text so we only have completely full mini-batches. **\n",
        "\n",
        "Each batch contains $N \\times M$ characters, where $N$ is the batch size (the number of sequences in a batch) and $M$ is the seq_length or number of time steps in a sequence. Then, to get the total number of batches, $K$, that we can make from the array `arr`, you divide the length of `arr` by the number of characters per batch. Once you know the number of batches, you can get the total number of characters to keep from `arr`, $N * M * K$.\n",
        "\n",
        "**2. After that, we need to split `arr` into $N$ batches. ** \n",
        "\n",
        "You can do this using `arr.reshape(size)` where `size` is a tuple containing the dimensions sizes of the reshaped array. We know we want $N$ sequences in a batch, so let's make that the size of the first dimension. For the second dimension, you can use `-1` as a placeholder in the size, it'll fill up the array with the appropriate data for you. After this, you should have an array that is $N \\times (M * K)$.\n",
        "\n",
        "**3. Now that we have this array, we can iterate through it to get our mini-batches. **\n",
        "\n",
        "The idea is each batch is a $N \\times M$ window on the $N \\times (M * K)$ array. For each subsequent batch, the window moves over by `seq_length`. We also want to create both the input and target arrays. Remember that the targets are just the inputs shifted over by one character. The way I like to do this window is use `range` to take steps of size `n_steps` from $0$ to `arr.shape[1]`, the total number of tokens in each sequence. That way, the integers you get from `range` always point to the start of a batch, and each window is `seq_length` wide.\n",
        "\n",
        "> **TODO:** Write the code for creating batches in the function below. The exercises in this notebook _will not be easy_. I've provided a notebook with solutions alongside this notebook. If you get stuck, checkout the solutions. The most important thing is that you don't copy and paste the code into here, **type out the solution code yourself.**"
      ]
    },
    {
      "metadata": {
        "id": "VTkU_gTbiNs_",
        "colab_type": "code",
        "colab": {}
      },
      "cell_type": "code",
      "source": [
        "def get_batches(arr, batch_size, seq_length):\n",
        "    '''Create a generator that returns batches of size\n",
        "       batch_size x seq_length from arr.\n",
        "       \n",
        "       Arguments\n",
        "       ---------\n",
        "       arr: Array you want to make batches from\n",
        "       batch_size: Batch size, the number of sequences per batch\n",
        "       seq_length: Number of encoded chars in a sequence\n",
        "    '''\n",
        "    \n",
        "    batch_size_total = batch_size * seq_length\n",
        "    # total number of batches we can make\n",
        "    n_batches = len(arr)//batch_size_total\n",
        "    \n",
        "    # Keep only enough characters to make full batches\n",
        "    arr = arr[:n_batches * batch_size_total]\n",
        "    # Reshape into batch_size rows\n",
        "    arr = arr.reshape((batch_size, -1))\n",
        "    \n",
        "    # iterate through the array, one sequence at a time\n",
        "    for n in range(0, arr.shape[1], seq_length):\n",
        "        # The features\n",
        "        x = arr[:, n:n+seq_length]\n",
        "        # The targets, shifted by one\n",
        "        y = np.zeros_like(x)\n",
        "        try:\n",
        "            y[:, :-1], y[:, -1] = x[:, 1:], arr[:, n+seq_length]\n",
        "        except IndexError:\n",
        "            y[:, :-1], y[:, -1] = x[:, 1:], arr[:, 0]\n",
        "        yield x, y"
      ],
      "execution_count": 0,
      "outputs": []
    },
    {
      "metadata": {
        "id": "-4s_U3uDiNtD",
        "colab_type": "text"
      },
      "cell_type": "markdown",
      "source": [
        "### Test Your Implementation\n",
        "\n",
        "Now I'll make some data sets and we can check out what's going on as we batch data. Here, as an example, I'm going to use a batch size of 8 and 50 sequence steps."
      ]
    },
    {
      "metadata": {
        "id": "By50tRfFiNtF",
        "colab_type": "code",
        "colab": {}
      },
      "cell_type": "code",
      "source": [
        "batches = get_batches(encoded, 8, 50)\n",
        "x, y = next(batches)"
      ],
      "execution_count": 0,
      "outputs": []
    },
    {
      "metadata": {
        "id": "7b_d-UgyiNtI",
        "colab_type": "code",
        "outputId": "e80e4543-31d9-4bf9-fe1e-b1fbdae22375",
        "colab": {
          "base_uri": "https://localhost:8080/",
          "height": 393
        }
      },
      "cell_type": "code",
      "source": [
        "# printing out the first 10 items in a sequence\n",
        "print('x\\n', x[:10, :10])\n",
        "print('\\ny\\n', y[:10, :10])"
      ],
      "execution_count": 0,
      "outputs": [
        {
          "output_type": "stream",
          "text": [
            "x\n",
            " [[75 75 75 75 28 77  2 53  7 15]\n",
            " [77 10 48 11  8 26 48 75 53 29]\n",
            " [ 8 54 30  2 48  8 53 26 22 53]\n",
            " [46 26 22  8 53 54 77  2 54 35]\n",
            " [ 2 54 22 53 28  2 62  8 62 75]\n",
            " [ 2  2 62 53 20 54 48  8 53  8]\n",
            " [53 22  2 46 26 22  8  2 35 53]\n",
            " [21  2 22 10 31 54 48 62 75 53]]\n",
            "\n",
            "y\n",
            " [[75 75 75 28 77  2 53  7 15 62]\n",
            " [10 48 11  8 26 48 75 53 29 26]\n",
            " [54 30  2 48  8 53 26 22 53 31]\n",
            " [26 22  8 53 54 77  2 54 35 53]\n",
            " [54 22 53 28  2 62  8 62 75 53]\n",
            " [ 2 62 53 20 54 48  8 53  8 26]\n",
            " [22  2 46 26 22  8  2 35 53  8]\n",
            " [ 2 22 10 31 54 48 62 75 53 28]]\n"
          ],
          "name": "stdout"
        }
      ]
    },
    {
      "metadata": {
        "id": "Xq-XH4xKiNtN",
        "colab_type": "text"
      },
      "cell_type": "markdown",
      "source": [
        "If you implemented `get_batches` correctly, the above output should look something like \n",
        "```\n",
        "x\n",
        " [[25  8 60 11 45 27 28 73  1  2]\n",
        " [17  7 20 73 45  8 60 45 73 60]\n",
        " [27 20 80 73  7 28 73 60 73 65]\n",
        " [17 73 45  8 27 73 66  8 46 27]\n",
        " [73 17 60 12 73  8 27 28 73 45]\n",
        " [66 64 17 17 46  7 20 73 60 20]\n",
        " [73 76 20 20 60 73  8 60 80 73]\n",
        " [47 35 43  7 20 17 24 50 37 73]]\n",
        "\n",
        "y\n",
        " [[ 8 60 11 45 27 28 73  1  2  2]\n",
        " [ 7 20 73 45  8 60 45 73 60 45]\n",
        " [20 80 73  7 28 73 60 73 65  7]\n",
        " [73 45  8 27 73 66  8 46 27 65]\n",
        " [17 60 12 73  8 27 28 73 45 27]\n",
        " [64 17 17 46  7 20 73 60 20 80]\n",
        " [76 20 20 60 73  8 60 80 73 17]\n",
        " [35 43  7 20 17 24 50 37 73 36]]\n",
        " ```\n",
        " although the exact numbers may be different. Check to make sure the data is shifted over one step for `y`."
      ]
    },
    {
      "metadata": {
        "id": "tzbw9-NviNtO",
        "colab_type": "text"
      },
      "cell_type": "markdown",
      "source": [
        "---\n",
        "## Defining the network with PyTorch\n",
        "\n",
        "Below is where you'll define the network.\n",
        "\n",
        "<img src=\"https://github.com/udacity/deep-learning-v2-pytorch/blob/master/recurrent-neural-networks/char-rnn/assets/charRNN.png?raw=1\" width=500px>\n",
        "\n",
        "Next, you'll use PyTorch to define the architecture of the network. We start by defining the layers and operations we want. Then, define a method for the forward pass. You've also been given a method for predicting characters."
      ]
    },
    {
      "metadata": {
        "id": "K09Ycj2GiNtP",
        "colab_type": "text"
      },
      "cell_type": "markdown",
      "source": [
        "### Model Structure\n",
        "\n",
        "In `__init__` the suggested structure is as follows:\n",
        "* Create and store the necessary dictionaries (this has been done for you)\n",
        "* Define an LSTM layer that takes as params: an input size (the number of characters), a hidden layer size `n_hidden`, a number of layers `n_layers`, a dropout probability `drop_prob`, and a batch_first boolean (True, since we are batching)\n",
        "* Define a dropout layer with `dropout_prob`\n",
        "* Define a fully-connected layer with params: input size `n_hidden` and output size (the number of characters)\n",
        "* Finally, initialize the weights (again, this has been given)\n",
        "\n",
        "Note that some parameters have been named and given in the `__init__` function, and we use them and store them by doing something like `self.drop_prob = drop_prob`."
      ]
    },
    {
      "metadata": {
        "id": "Q45EhKNEiNtQ",
        "colab_type": "text"
      },
      "cell_type": "markdown",
      "source": [
        "---\n",
        "### LSTM Inputs/Outputs\n",
        "\n",
        "You can create a basic [LSTM layer](https://pytorch.org/docs/stable/nn.html#lstm) as follows\n",
        "\n",
        "```python\n",
        "self.lstm = nn.LSTM(input_size, n_hidden, n_layers, \n",
        "                            dropout=drop_prob, batch_first=True)\n",
        "```\n",
        "\n",
        "where `input_size` is the number of characters this cell expects to see as sequential input, and `n_hidden` is the number of units in the hidden layers in the cell. And we can add dropout by adding a dropout parameter with a specified probability; this will automatically add dropout to the inputs or outputs. Finally, in the `forward` function, we can stack up the LSTM cells into layers using `.view`. With this, you pass in a list of cells and it will send the output of one cell into the next cell.\n",
        "\n",
        "We also need to create an initial hidden state of all zeros. This is done like so\n",
        "\n",
        "```python\n",
        "self.init_hidden()\n",
        "```"
      ]
    },
    {
      "metadata": {
        "id": "-3rkNzXfiNtR",
        "colab_type": "code",
        "outputId": "aaf48896-5b7d-45ac-cae9-bc81dd20c101",
        "colab": {
          "base_uri": "https://localhost:8080/",
          "height": 94
        }
      },
      "cell_type": "code",
      "source": [
        "# check if GPU is available\n",
        "train_on_gpu = torch.cuda.is_available()\n",
        "if(train_on_gpu):\n",
        "    print('Training on GPU!')\n",
        "else: \n",
        "    print('No GPU available, training on CPU; consider making n_epochs very small.')"
      ],
      "execution_count": 0,
      "outputs": [
        {
          "output_type": "stream",
          "text": [
            "No GPU available, training on CPU; consider making n_epochs very small.\n"
          ],
          "name": "stdout"
        }
      ]
    },
    {
      "metadata": {
        "id": "YRPjDnS9iNtV",
        "colab_type": "code",
        "colab": {}
      },
      "cell_type": "code",
      "source": [
        "class CharRNN(nn.Module):\n",
        "    \n",
        "    def __init__(self, tokens, drop_prob=0.5,n_hidden=256, n_layers=2,\n",
        "                                lr=0.001):\n",
        "        super().__init__()\n",
        "        self.drop_prob = drop_prob\n",
        "        self.n_layers = n_layers\n",
        "        self.n_hidden = n_hidden\n",
        "        self.lr = lr\n",
        "        \n",
        "        # creating character dictionaries\n",
        "        self.chars = tokens\n",
        "        self.int2char = dict(enumerate(self.chars))\n",
        "        self.char2int = {ch: ii for ii, ch in self.int2char.items()}\n",
        "        \n",
        "        ## TODO: define the LSTM\n",
        "        self.lstm = nn.LSTM(len(self.chars), n_hidden, n_layers, \n",
        "                            dropout=drop_prob, batch_first=True)\n",
        "        \n",
        "        ## TODO: define a dropout layer\n",
        "        self.dropout = nn.Dropout(drop_prob)\n",
        "        \n",
        "        ## TODO: define the final, fully-connected output layer\n",
        "        self.fc = nn.Linear(n_hidden, len(self.chars))\n",
        "      \n",
        "    \n",
        "    def forward(self, x, hidden):\n",
        "        ''' Forward pass through the network. \n",
        "            These inputs are x, and the hidden/cell state `hidden`. '''\n",
        "                \n",
        "        ## TODO: Get the outputs and the new hidden state from the lstm\n",
        "        r_output, hidden = self.lstm(x, hidden)\n",
        "        \n",
        "        ## TODO: pass through a dropout layer\n",
        "        out = self.dropout(r_output)\n",
        "        \n",
        "        # Stack up LSTM outputs using view\n",
        "        # you may need to use contiguous to reshape the output\n",
        "        out = out.contiguous().view(-1, self.n_hidden)\n",
        "        \n",
        "        ## TODO: put x through the fully-connected layer\n",
        "        out = self.fc(out)\n",
        "        \n",
        "        # return the final output and the hidden state\n",
        "        return out, hidden\n",
        "    \n",
        "    \n",
        "    def init_hidden(self, batch_size):\n",
        "        ''' Initializes hidden state '''\n",
        "        # Create two new tensors with sizes n_layers x batch_size x n_hidden,\n",
        "        # initialized to zero, for hidden state and cell state of LSTM\n",
        "        weight = next(self.parameters()).data\n",
        "        \n",
        "        if (train_on_gpu):\n",
        "            hidden = (weight.new(self.n_layers, batch_size, self.n_hidden).zero_().cuda(),\n",
        "                  weight.new(self.n_layers, batch_size, self.n_hidden).zero_().cuda())\n",
        "        else:\n",
        "            hidden = (weight.new(self.n_layers, batch_size, self.n_hidden).zero_(),\n",
        "                      weight.new(self.n_layers, batch_size, self.n_hidden).zero_())\n",
        "        \n",
        "        return hidden\n",
        "        "
      ],
      "execution_count": 0,
      "outputs": []
    },
    {
      "metadata": {
        "id": "7YASdqUciNtZ",
        "colab_type": "text"
      },
      "cell_type": "markdown",
      "source": [
        "## Time to train\n",
        "\n",
        "The train function gives us the ability to set the number of epochs, the learning rate, and other parameters.\n",
        "\n",
        "Below we're using an Adam optimizer and cross entropy loss since we are looking at character class scores as output. We calculate the loss and perform backpropagation, as usual!\n",
        "\n",
        "A couple of details about training: \n",
        ">* Within the batch loop, we detach the hidden state from its history; this time setting it equal to a new *tuple* variable because an LSTM has a hidden state that is a tuple of the hidden and cell states.\n",
        "* We use [`clip_grad_norm_`](https://pytorch.org/docs/stable/_modules/torch/nn/utils/clip_grad.html) to help prevent exploding gradients."
      ]
    },
    {
      "metadata": {
        "id": "1IXElfEfiNtb",
        "colab_type": "code",
        "colab": {}
      },
      "cell_type": "code",
      "source": [
        "def train(net, data, epochs=10, batch_size=10, seq_length=50, lr=0.001, clip=5, val_frac=0.1, print_every=10):\n",
        "    ''' Training a network \n",
        "    \n",
        "        Arguments\n",
        "        ---------\n",
        "        \n",
        "        net: CharRNN network\n",
        "        data: text data to train the network\n",
        "        epochs: Number of epochs to train\n",
        "        batch_size: Number of mini-sequences per mini-batch, aka batch size\n",
        "        seq_length: Number of character steps per mini-batch\n",
        "        lr: learning rate\n",
        "        clip: gradient clipping\n",
        "        val_frac: Fraction of data to hold out for validation\n",
        "        print_every: Number of steps for printing training and validation loss\n",
        "    \n",
        "    '''\n",
        "    net.train()\n",
        "    \n",
        "    opt = torch.optim.Adam(net.parameters(), lr=lr)\n",
        "    criterion = nn.CrossEntropyLoss()\n",
        "    \n",
        "    # create training and validation data\n",
        "    val_idx = int(len(data)*(1-val_frac))\n",
        "    data, val_data = data[:val_idx], data[val_idx:]\n",
        "    \n",
        "    if(train_on_gpu):\n",
        "        net.cuda()\n",
        "    \n",
        "    counter = 0\n",
        "    n_chars = len(net.chars)\n",
        "    for e in range(epochs):\n",
        "        # initialize hidden state\n",
        "        h = net.init_hidden(batch_size)\n",
        "        \n",
        "        for x, y in get_batches(data, batch_size, seq_length):\n",
        "            counter += 1\n",
        "            \n",
        "            # One-hot encode our data and make them Torch tensors\n",
        "            x = one_hot_encode(x, n_chars)\n",
        "            inputs, targets = torch.from_numpy(x), torch.from_numpy(y)\n",
        "            \n",
        "            if(train_on_gpu):\n",
        "                inputs, targets = inputs.cuda(), targets.cuda()\n",
        "\n",
        "            # Creating new variables for the hidden state, otherwise\n",
        "            # we'd backprop through the entire training history\n",
        "            h = tuple([each.data for each in h])\n",
        "\n",
        "            # zero accumulated gradients\n",
        "            net.zero_grad()\n",
        "            \n",
        "            # get the output from the model\n",
        "            output, h = net(inputs, h)\n",
        "            \n",
        "            # calculate the loss and perform backprop\n",
        "            loss = criterion(output, targets.view(batch_size*seq_length))\n",
        "            loss.backward()\n",
        "            # `clip_grad_norm` helps prevent the exploding gradient problem in RNNs / LSTMs.\n",
        "            nn.utils.clip_grad_norm_(net.parameters(), clip)\n",
        "            opt.step()\n",
        "            \n",
        "            # loss stats\n",
        "            if counter % print_every == 0:\n",
        "                # Get validation loss\n",
        "                val_h = net.init_hidden(batch_size)\n",
        "                val_losses = []\n",
        "                net.eval()\n",
        "                for x, y in get_batches(val_data, batch_size, seq_length):\n",
        "                    # One-hot encode our data and make them Torch tensors\n",
        "                    x = one_hot_encode(x, n_chars)\n",
        "                    x, y = torch.from_numpy(x), torch.from_numpy(y)\n",
        "                    \n",
        "                    # Creating new variables for the hidden state, otherwise\n",
        "                    # we'd backprop through the entire training history\n",
        "                    val_h = tuple([each.data for each in val_h])\n",
        "                    \n",
        "                    inputs, targets = x, y\n",
        "                    if(train_on_gpu):\n",
        "                        inputs, targets = inputs.cuda(), targets.cuda()\n",
        "\n",
        "                    output, val_h = net(inputs, val_h)\n",
        "                    val_loss = criterion(output, targets.view(batch_size*seq_length))\n",
        "                \n",
        "                    val_losses.append(val_loss.item())\n",
        "                \n",
        "                net.train() # reset to train mode after iterationg through validation data\n",
        "                \n",
        "                print(\"Epoch: {}/{}...\".format(e+1, epochs),\n",
        "                      \"Step: {}...\".format(counter),\n",
        "                      \"Loss: {:.4f}...\".format(loss.item()),\n",
        "                      \"Val Loss: {:.4f}\".format(np.mean(val_losses)))"
      ],
      "execution_count": 0,
      "outputs": []
    },
    {
      "metadata": {
        "id": "3BdaHZZKJzL-",
        "colab_type": "text"
      },
      "cell_type": "markdown",
      "source": [
        "## Setting the Hyperparameters\n",
        "Change the hyperparamters of the model to increase the accuracy.Their indications are given in the comment. "
      ]
    },
    {
      "metadata": {
        "id": "5eF1-j1cKI6M",
        "colab_type": "code",
        "colab": {}
      },
      "cell_type": "code",
      "source": [
        "# define and print the net\n",
        "n_hidden=512        #Dimensions of the hidden layer\n",
        "n_layers=2          #No.of layers of LSTM\n",
        "batch_size = 128    #Batch size(The smaller the better accurate)\n",
        "seq_length = 100    #Sequence Length is the total no.of LSTMs in one layers side-by-side\n",
        "n_epochs = 20       #Start smaller if you are just testing initial behavior\n",
        "dropout = 0.5\n",
        "lr1 = 0.001"
      ],
      "execution_count": 0,
      "outputs": []
    },
    {
      "metadata": {
        "id": "U90o4qlciNtg",
        "colab_type": "text"
      },
      "cell_type": "markdown",
      "source": [
        "## Instantiating the model\n",
        "\n",
        "Now we can actually train the network. First we'll create the network itself, with some given hyperparameters. Then, define the mini-batches sizes, and start training!"
      ]
    },
    {
      "metadata": {
        "id": "xkNdM_JtiNth",
        "colab_type": "code",
        "outputId": "0c980328-3d41-4544-aee0-77ac074985b7",
        "colab": {
          "base_uri": "https://localhost:8080/",
          "height": 140
        }
      },
      "cell_type": "code",
      "source": [
        "\n",
        "\n",
        "net = CharRNN(chars, n_hidden, n_layers , dropout)\n",
        "print(net)"
      ],
      "execution_count": 0,
      "outputs": [
        {
          "output_type": "stream",
          "text": [
            "CharRNN(\n",
            "  (lstm): LSTM(86, 512, num_layers=2, batch_first=True, dropout=0.5)\n",
            "  (dropout): Dropout(p=0.5)\n",
            "  (fc): Linear(in_features=512, out_features=86, bias=True)\n",
            ")\n"
          ],
          "name": "stdout"
        }
      ]
    },
    {
      "metadata": {
        "scrolled": true,
        "id": "kqYhWJ3tiNtm",
        "colab_type": "code",
        "outputId": "0ceef091-4746-4a02-ab21-a4f8d70c912b",
        "colab": {
          "base_uri": "https://localhost:8080/",
          "height": 1293
        }
      },
      "cell_type": "code",
      "source": [
        "\n",
        "\n",
        "# train the model\n",
        "train(net, encoded, epochs=n_epochs, batch_size=batch_size, seq_length=seq_length, lr=lr1, print_every=10)"
      ],
      "execution_count": 0,
      "outputs": [
        {
          "output_type": "stream",
          "text": [
            "Epoch: 1/20... Step: 10... Loss: 3.3320... Val Loss: 3.3013\n",
            "Epoch: 1/20... Step: 20... Loss: 3.3078... Val Loss: 3.2294\n",
            "Epoch: 1/20... Step: 30... Loss: 3.2567... Val Loss: 3.2132\n",
            "Epoch: 2/20... Step: 40... Loss: 3.2312... Val Loss: 3.2088\n",
            "Epoch: 2/20... Step: 50... Loss: 3.2198... Val Loss: 3.2038\n",
            "Epoch: 2/20... Step: 60... Loss: 3.2221... Val Loss: 3.2011\n",
            "Epoch: 2/20... Step: 70... Loss: 3.2111... Val Loss: 3.1929\n",
            "Epoch: 3/20... Step: 80... Loss: 3.2097... Val Loss: 3.1712\n",
            "Epoch: 3/20... Step: 90... Loss: 3.1523... Val Loss: 3.1395\n",
            "Epoch: 3/20... Step: 100... Loss: 3.1534... Val Loss: 3.1132\n",
            "Epoch: 3/20... Step: 110... Loss: 3.0889... Val Loss: 3.0212\n",
            "Epoch: 4/20... Step: 120... Loss: 2.9676... Val Loss: 2.9238\n",
            "Epoch: 4/20... Step: 130... Loss: 2.8862... Val Loss: 2.8207\n",
            "Epoch: 4/20... Step: 140... Loss: 2.7409... Val Loss: 2.7095\n",
            "Epoch: 4/20... Step: 150... Loss: 2.7105... Val Loss: 2.6488\n",
            "Epoch: 5/20... Step: 160... Loss: 2.6335... Val Loss: 2.5893\n",
            "Epoch: 5/20... Step: 170... Loss: 2.5796... Val Loss: 2.5418\n",
            "Epoch: 5/20... Step: 180... Loss: 2.5409... Val Loss: 2.5036\n",
            "Epoch: 5/20... Step: 190... Loss: 2.5444... Val Loss: 2.4635\n",
            "Epoch: 6/20... Step: 200... Loss: 2.4771... Val Loss: 2.4308\n",
            "Epoch: 6/20... Step: 210... Loss: 2.4889... Val Loss: 2.3956\n",
            "Epoch: 6/20... Step: 220... Loss: 2.4067... Val Loss: 2.3651\n",
            "Epoch: 7/20... Step: 230... Loss: 2.3883... Val Loss: 2.3355\n",
            "Epoch: 7/20... Step: 240... Loss: 2.3567... Val Loss: 2.3132\n",
            "Epoch: 7/20... Step: 250... Loss: 2.3379... Val Loss: 2.2848\n",
            "Epoch: 7/20... Step: 260... Loss: 2.2938... Val Loss: 2.2537\n",
            "Epoch: 8/20... Step: 270... Loss: 2.2844... Val Loss: 2.2293\n",
            "Epoch: 8/20... Step: 280... Loss: 2.2460... Val Loss: 2.2039\n",
            "Epoch: 8/20... Step: 290... Loss: 2.2208... Val Loss: 2.1761\n",
            "Epoch: 8/20... Step: 300... Loss: 2.2326... Val Loss: 2.1605\n",
            "Epoch: 9/20... Step: 310... Loss: 2.1980... Val Loss: 2.1356\n",
            "Epoch: 9/20... Step: 320... Loss: 2.1919... Val Loss: 2.1105\n",
            "Epoch: 9/20... Step: 330... Loss: 2.1240... Val Loss: 2.0950\n",
            "Epoch: 9/20... Step: 340... Loss: 2.1653... Val Loss: 2.0754\n",
            "Epoch: 10/20... Step: 350... Loss: 2.1310... Val Loss: 2.0535\n",
            "Epoch: 10/20... Step: 360... Loss: 2.1018... Val Loss: 2.0352\n",
            "Epoch: 10/20... Step: 370... Loss: 2.0752... Val Loss: 2.0159\n",
            "Epoch: 10/20... Step: 380... Loss: 2.1213... Val Loss: 2.0043\n",
            "Epoch: 11/20... Step: 390... Loss: 2.0625... Val Loss: 1.9819\n",
            "Epoch: 11/20... Step: 400... Loss: 2.0763... Val Loss: 1.9695\n",
            "Epoch: 11/20... Step: 410... Loss: 2.0246... Val Loss: 1.9534\n",
            "Epoch: 12/20... Step: 420... Loss: 2.0134... Val Loss: 1.9359\n",
            "Epoch: 12/20... Step: 430... Loss: 2.0055... Val Loss: 1.9167\n",
            "Epoch: 12/20... Step: 440... Loss: 1.9976... Val Loss: 1.9033\n",
            "Epoch: 12/20... Step: 450... Loss: 1.9601... Val Loss: 1.8915\n",
            "Epoch: 13/20... Step: 460... Loss: 1.9444... Val Loss: 1.8805\n",
            "Epoch: 13/20... Step: 470... Loss: 1.9248... Val Loss: 1.8600\n",
            "Epoch: 13/20... Step: 480... Loss: 1.9032... Val Loss: 1.8502\n",
            "Epoch: 13/20... Step: 490... Loss: 1.9349... Val Loss: 1.8373\n",
            "Epoch: 14/20... Step: 500... Loss: 1.9170... Val Loss: 1.8259\n",
            "Epoch: 14/20... Step: 510... Loss: 1.9089... Val Loss: 1.8092\n",
            "Epoch: 14/20... Step: 520... Loss: 1.8702... Val Loss: 1.7994\n",
            "Epoch: 14/20... Step: 530... Loss: 1.8992... Val Loss: 1.7892\n",
            "Epoch: 15/20... Step: 540... Loss: 1.8643... Val Loss: 1.7762\n",
            "Epoch: 15/20... Step: 550... Loss: 1.8195... Val Loss: 1.7655\n",
            "Epoch: 15/20... Step: 560... Loss: 1.8239... Val Loss: 1.7558\n",
            "Epoch: 15/20... Step: 570... Loss: 1.8771... Val Loss: 1.7436\n",
            "Epoch: 16/20... Step: 580... Loss: 1.8271... Val Loss: 1.7343\n",
            "Epoch: 16/20... Step: 590... Loss: 1.8285... Val Loss: 1.7228\n",
            "Epoch: 16/20... Step: 600... Loss: 1.7825... Val Loss: 1.7161\n",
            "Epoch: 17/20... Step: 610... Loss: 1.7828... Val Loss: 1.7036\n",
            "Epoch: 17/20... Step: 620... Loss: 1.7736... Val Loss: 1.6928\n",
            "Epoch: 17/20... Step: 630... Loss: 1.7786... Val Loss: 1.6865\n",
            "Epoch: 17/20... Step: 640... Loss: 1.7538... Val Loss: 1.6789\n",
            "Epoch: 18/20... Step: 650... Loss: 1.7288... Val Loss: 1.6680\n",
            "Epoch: 18/20... Step: 660... Loss: 1.7213... Val Loss: 1.6652\n",
            "Epoch: 18/20... Step: 670... Loss: 1.7038... Val Loss: 1.6515\n",
            "Epoch: 18/20... Step: 680... Loss: 1.7228... Val Loss: 1.6448\n",
            "Epoch: 19/20... Step: 690... Loss: 1.7165... Val Loss: 1.6412\n",
            "Epoch: 19/20... Step: 700... Loss: 1.7060... Val Loss: 1.6319\n",
            "Epoch: 19/20... Step: 710... Loss: 1.6784... Val Loss: 1.6240\n",
            "Epoch: 19/20... Step: 720... Loss: 1.7097... Val Loss: 1.6218\n",
            "Epoch: 20/20... Step: 730... Loss: 1.6999... Val Loss: 1.6125\n",
            "Epoch: 20/20... Step: 740... Loss: 1.6472... Val Loss: 1.6009\n",
            "Epoch: 20/20... Step: 750... Loss: 1.6421... Val Loss: 1.5976\n",
            "Epoch: 20/20... Step: 760... Loss: 1.7196... Val Loss: 1.5902\n"
          ],
          "name": "stdout"
        }
      ]
    },
    {
      "metadata": {
        "id": "sPpLQm-niNtr",
        "colab_type": "text"
      },
      "cell_type": "markdown",
      "source": [
        "## Getting the best model\n",
        "\n",
        "To set your hyperparameters to get the best performance, you'll want to watch the training and validation losses. If your training loss is much lower than the validation loss, you're overfitting. Increase regularization (more dropout) or use a smaller network. If the training and validation losses are close, you're underfitting so you can increase the size of the network."
      ]
    },
    {
      "metadata": {
        "id": "_xPLl0I7iNts",
        "colab_type": "text"
      },
      "cell_type": "markdown",
      "source": [
        "## Hyperparameters\n",
        "\n",
        "Here are the hyperparameters for the network.\n",
        "\n",
        "In defining the model:\n",
        "* `n_hidden` - The number of units in the hidden layers.\n",
        "* `n_layers` - Number of hidden LSTM layers to use.\n",
        "\n",
        "We assume that dropout probability and learning rate will be kept at the default, in this example.\n",
        "\n",
        "And in training:\n",
        "* `batch_size` - Number of sequences running through the network in one pass.\n",
        "* `seq_length` - Number of characters in the sequence the network is trained on. Larger is better typically, the network will learn more long range dependencies. But it takes longer to train. 100 is typically a good number here.\n",
        "* `lr` - Learning rate for training\n",
        "\n",
        "Here's some good advice from Andrej Karpathy on training the network. I'm going to copy it in here for your benefit, but also link to [where it originally came from](https://github.com/karpathy/char-rnn#tips-and-tricks).\n",
        "\n",
        "> ## Tips and Tricks\n",
        "\n",
        ">### Monitoring Validation Loss vs. Training Loss\n",
        ">If you're somewhat new to Machine Learning or Neural Networks it can take a bit of expertise to get good models. The most important quantity to keep track of is the difference between your training loss (printed during training) and the validation loss (printed once in a while when the RNN is run on the validation data (by default every 1000 iterations)). In particular:\n",
        "\n",
        "> - If your training loss is much lower than validation loss then this means the network might be **overfitting**. Solutions to this are to decrease your network size, or to increase dropout. For example you could try dropout of 0.5 and so on.\n",
        "> - If your training/validation loss are about equal then your model is **underfitting**. Increase the size of your model (either number of layers or the raw number of neurons per layer)\n",
        "\n",
        "> ### Approximate number of parameters\n",
        "\n",
        "> The two most important parameters that control the model are `n_hidden` and `n_layers`. I would advise that you always use `n_layers` of either 2/3. The `n_hidden` can be adjusted based on how much data you have. The two important quantities to keep track of here are:\n",
        "\n",
        "> - The number of parameters in your model. This is printed when you start training.\n",
        "> - The size of your dataset. 1MB file is approximately 1 million characters.\n",
        "\n",
        ">These two should be about the same order of magnitude. It's a little tricky to tell. Here are some examples:\n",
        "\n",
        "> - I have a 100MB dataset and I'm using the default parameter settings (which currently print 150K parameters). My data size is significantly larger (100 mil >> 0.15 mil), so I expect to heavily underfit. I am thinking I can comfortably afford to make `n_hidden` larger.\n",
        "> - I have a 10MB dataset and running a 10 million parameter model. I'm slightly nervous and I'm carefully monitoring my validation loss. If it's larger than my training loss then I may want to try to increase dropout a bit and see if that helps the validation loss.\n",
        "\n",
        "> ### Best models strategy\n",
        "\n",
        ">The winning strategy to obtaining very good models (if you have the compute time) is to always err on making the network larger (as large as you're willing to wait for it to compute) and then try different dropout values (between 0,1). Whatever model has the best validation performance (the loss, written in the checkpoint filename, low is good) is the one you should use in the end.\n",
        "\n",
        ">It is very common in deep learning to run many different models with many different hyperparameter settings, and in the end take whatever checkpoint gave the best validation performance.\n",
        "\n",
        ">By the way, the size of your training and validation splits are also parameters. Make sure you have a decent amount of data in your validation set or otherwise the validation performance will be noisy and not very informative."
      ]
    },
    {
      "metadata": {
        "id": "sfJ1xlYHiNtt",
        "colab_type": "text"
      },
      "cell_type": "markdown",
      "source": [
        "## Checkpoint\n",
        "\n",
        "After training, we'll save the model so we can load it again later if we need too. Here I'm saving the parameters needed to create the same architecture, the hidden layer hyperparameters and the text characters."
      ]
    },
    {
      "metadata": {
        "id": "nhMO8rlYiNtv",
        "colab_type": "code",
        "colab": {}
      },
      "cell_type": "code",
      "source": [
        "# change the name, for saving multiple files\n",
        "model_name = 'rnn_20_epoch.net'\n",
        "\n",
        "checkpoint = {'n_hidden': net.n_hidden,\n",
        "              'n_layers': net.n_layers,\n",
        "              'state_dict': net.state_dict(),\n",
        "              'tokens': net.chars}\n",
        "\n",
        "with open(model_name, 'wb') as f:\n",
        "    torch.save(checkpoint, f)"
      ],
      "execution_count": 0,
      "outputs": []
    },
    {
      "metadata": {
        "id": "KLlEtbs5iNtz",
        "colab_type": "text"
      },
      "cell_type": "markdown",
      "source": [
        "---\n",
        "## Making Predictions\n",
        "\n",
        "Now that the model is trained, we'll want to sample from it and make predictions about next characters! To sample, we pass in a character and have the network predict the next character. Then we take that character, pass it back in, and get another predicted character. Just keep doing this and you'll generate a bunch of text!\n",
        "\n",
        "### A note on the `predict`  function\n",
        "\n",
        "The output of our RNN is from a fully-connected layer and it outputs a **distribution of next-character scores**.\n",
        "\n",
        "> To actually get the next character, we apply a softmax function, which gives us a *probability* distribution that we can then sample to predict the next character.\n",
        "\n",
        "### Top K sampling\n",
        "\n",
        "Our predictions come from a categorical probability distribution over all the possible characters. We can make the sample text and make it more reasonable to handle (with less variables) by only considering some $K$ most probable characters. This will prevent the network from giving us completely absurd characters while allowing it to introduce some noise and randomness into the sampled text. Read more about [topk, here](https://pytorch.org/docs/stable/torch.html#torch.topk).\n"
      ]
    },
    {
      "metadata": {
        "id": "sKNK1FhziNt0",
        "colab_type": "code",
        "colab": {}
      },
      "cell_type": "code",
      "source": [
        "def predict(net, char, h=None, top_k=None):\n",
        "        ''' Given a character, predict the next character.\n",
        "            Returns the predicted character and the hidden state.\n",
        "        '''\n",
        "        \n",
        "        # tensor inputs\n",
        "        x = np.array([[net.char2int[char]]])\n",
        "        x = one_hot_encode(x, len(net.chars))\n",
        "        inputs = torch.from_numpy(x)\n",
        "        \n",
        "        if(train_on_gpu):\n",
        "            inputs = inputs.cuda()\n",
        "        \n",
        "        # detach hidden state from history\n",
        "        h = tuple([each.data for each in h])\n",
        "        # get the output of the model\n",
        "        out, h = net(inputs, h)\n",
        "\n",
        "        # get the character probabilities\n",
        "        p = F.softmax(out, dim=1).data\n",
        "        if(train_on_gpu):\n",
        "            p = p.cpu() # move to cpu\n",
        "        \n",
        "        # get top characters\n",
        "        if top_k is None:\n",
        "            top_ch = np.arange(len(net.chars))\n",
        "        else:\n",
        "            p, top_ch = p.topk(top_k)\n",
        "            top_ch = top_ch.numpy().squeeze()\n",
        "        \n",
        "        # select the likely next character with some element of randomness\n",
        "        p = p.numpy().squeeze()\n",
        "        char = np.random.choice(top_ch, p=p/p.sum())\n",
        "        \n",
        "        # return the encoded value of the predicted char and the hidden state\n",
        "        return net.int2char[char], h"
      ],
      "execution_count": 0,
      "outputs": []
    },
    {
      "metadata": {
        "id": "cdm0bKZoiNt3",
        "colab_type": "text"
      },
      "cell_type": "markdown",
      "source": [
        "### Priming and generating text \n",
        "\n",
        "Typically you'll want to prime the network so you can build up a hidden state. Otherwise the network will start out generating characters at random. In general the first bunch of characters will be a little rough since it hasn't built up a long history of characters to predict from."
      ]
    },
    {
      "metadata": {
        "id": "Vi4z2NhdiNt4",
        "colab_type": "code",
        "colab": {}
      },
      "cell_type": "code",
      "source": [
        "def sample(net, size, prime='The', top_k=None):\n",
        "        \n",
        "    if(train_on_gpu):\n",
        "        net.cuda()\n",
        "    else:\n",
        "        net.cpu()\n",
        "    \n",
        "    net.eval() # eval mode\n",
        "    \n",
        "    # First off, run through the prime characters\n",
        "    chars = [ch for ch in prime]\n",
        "    h = net.init_hidden(1)\n",
        "    for ch in prime:\n",
        "        char, h = predict(net, ch, h, top_k=top_k)\n",
        "\n",
        "    chars.append(char)\n",
        "    \n",
        "    # Now pass in the previous character and get a new one\n",
        "    for ii in range(size):\n",
        "        char, h = predict(net, chars[-1], h, top_k=top_k)\n",
        "        chars.append(char)\n",
        "\n",
        "    return ''.join(chars)"
      ],
      "execution_count": 0,
      "outputs": []
    },
    {
      "metadata": {
        "id": "nxVxnGESiNt6",
        "colab_type": "code",
        "outputId": "425c202b-8f5a-4c71-dc2c-775726c5944f",
        "colab": {}
      },
      "cell_type": "code",
      "source": [
        "print(sample(net, 1000, prime='Anna', top_k=5))"
      ],
      "execution_count": 0,
      "outputs": [
        {
          "output_type": "stream",
          "text": [
            "Anna had so that an enter strength to be says off and he cared to be an unmarrely sister.\n",
            "\n",
            "The children are saying in a place. A smile of their secretary and the sense of a condition. He saw that the princess was the same, the peaciting of his\n",
            "briderous country second still. That she had seen him a little as it was the simminest that he had not been\n",
            "the simple of\n",
            "the passion to see his finger, and\n",
            "his brother and the points he heard this place which\n",
            "he was not\n",
            "sense. All had sent him that he could he concealed the steps and that he was to be patied,\n",
            "so much at hands, at the servants who had said something with the\n",
            "chair.\n",
            " \"This is a solitat matter?\"\n",
            "\n",
            "\"It's not thinking in the more the point is and that he's talking of the drinking of the\n",
            "crain. If I was a memory. Have you\n",
            "seen my to thousard more\n",
            "characteribries, and this, and would be the framing of the most careful towards me, to the country too that they did nothind when she could not see him. What is\n",
            "it you want a conviluated more to mo\n"
          ],
          "name": "stdout"
        }
      ]
    },
    {
      "metadata": {
        "id": "M-nOCippiNt-",
        "colab_type": "text"
      },
      "cell_type": "markdown",
      "source": [
        "## Loading a checkpoint"
      ]
    },
    {
      "metadata": {
        "id": "ac7X9ONeiNt-",
        "colab_type": "code",
        "colab": {}
      },
      "cell_type": "code",
      "source": [
        "# Here we have loaded in a model that trained over 20 epochs `rnn_20_epoch.net`\n",
        "with open('rnn_20_epoch.net', 'rb') as f:\n",
        "    checkpoint = torch.load(f)\n",
        "    \n",
        "loaded = CharRNN(checkpoint['tokens'], n_hidden=checkpoint['n_hidden'], n_layers=checkpoint['n_layers'])\n",
        "loaded.load_state_dict(checkpoint['state_dict'])"
      ],
      "execution_count": 0,
      "outputs": []
    },
    {
      "metadata": {
        "id": "RKN5LWtMiNuA",
        "colab_type": "code",
        "outputId": "efd98ce9-d011-49c9-cbeb-d3a15b6b6e7f",
        "colab": {
          "base_uri": "https://localhost:8080/",
          "height": 125
        }
      },
      "cell_type": "code",
      "source": [
        "# Sample using a loaded model\n",
        "print(sample(loaded, 2000, top_k=5, prime=\"barack Obama is\"))"
      ],
      "execution_count": 0,
      "outputs": [
        {
          "output_type": "stream",
          "text": [
            "barack Obama is shoplay and the FBI are a great the protecs, is a big in the pressiving working, ithing it its with thould to take a strong at it wering out take a the Unice Securemy, to aring we have been a calland antoroth taxists and the Union Country!\n",
            "Ithing we was my the peondent on an there is the fouch from the Democrats, the Witch Hunt to back to the Ulieling Congressman at the Senate of tha great history for Comey of Thand you to talled our campeosing is a there they was trey are the perined of pressite who was and with my are way any the Dissorron wontings or the Fare Norse, and we contresing in this the Florida is we alieg to have the stoun and has my great beate the players in Chery,.\n",
            "...Thear happen on the Domenta. They are no big the samany on Trump is at the Unions and ores there will be stact and have ageed a betore a great how of the FBI, withous a great peace for the Demaly!\n",
            "The United States to the FBE and happing and to the We are with all to sel our, which the Warl Agentine Crime and Comesell and tare that in a gane of the Searement on Novernor and they thank on Caradans with Congrateropa, our Not was a could asking of the Court, will be the made anstersiations, the Dimaly was to streng our great to be to the United Minimaly than will neved to back there will be and his are a great pearing that he say the sampeing our countriasely in our ceurtry. The Democrat Congally and our Call and his the pay and how back, thous this it what it their taxts the U.S. in the some to and our Crime was to the Day on Crinas while hore the ploss this areation and croiling our Catian is a gate from any has they well all the country. A stope the people of Chila and trooks. With his mister and this and other to sen the Dupsial Suprome Counter. They welled a truliticulity wants on the Una compleing only ore that any, and other toods are searing thoughts of the Demands oplo in our great hin that when hilly news be open the prive conflicten to the Werch Here ara and but the pay on the S\n"
          ],
          "name": "stdout"
        }
      ]
    },
    {
      "metadata": {
        "id": "feNeFO6QiNuD",
        "colab_type": "code",
        "colab": {}
      },
      "cell_type": "code",
      "source": [
        ""
      ],
      "execution_count": 0,
      "outputs": []
    }
  ]
}